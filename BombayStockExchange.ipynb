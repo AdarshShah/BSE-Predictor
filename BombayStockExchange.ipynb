{
  "nbformat": 4,
  "nbformat_minor": 0,
  "metadata": {
    "colab": {
      "name": "BombayStockExchange.ipynb",
      "provenance": [],
      "include_colab_link": true
    },
    "kernelspec": {
      "name": "python3",
      "display_name": "Python 3"
    }
  },
  "cells": [
    {
      "cell_type": "markdown",
      "metadata": {
        "id": "view-in-github",
        "colab_type": "text"
      },
      "source": [
        "<a href=\"https://colab.research.google.com/github/AdarshShah/BSE-Predictor/blob/master/BombayStockExchange.ipynb\" target=\"_parent\"><img src=\"https://colab.research.google.com/assets/colab-badge.svg\" alt=\"Open In Colab\"/></a>"
      ]
    },
    {
      "cell_type": "code",
      "metadata": {
        "id": "xprIoCtalbA1",
        "colab_type": "code",
        "colab": {}
      },
      "source": [
        "!pip3 install quandl"
      ],
      "execution_count": 0,
      "outputs": []
    },
    {
      "cell_type": "code",
      "metadata": {
        "id": "3SW9_F8-Y9Zo",
        "colab_type": "code",
        "colab": {}
      },
      "source": [
        "import quandl\n",
        "import pandas as pd\n",
        "import numpy as np\n",
        "import random\n",
        "\n",
        "key = \"u5EPfUUbFooBcZW_J5h6\"\n",
        "quandl_id = \"BSE/BOM539397\"\n",
        "start_date = \"2018-10-26\"\n",
        "end_date = \"2018-11-26\"\n",
        "column_index = 1\n",
        "\n",
        "\n",
        "quandl.ApiConfig.api_key = key"
      ],
      "execution_count": 0,
      "outputs": []
    },
    {
      "cell_type": "code",
      "metadata": {
        "id": "ghB8ZrT3lNi2",
        "colab_type": "code",
        "colab": {}
      },
      "source": [
        "metadata = pd.read_csv(\"https://raw.githubusercontent.com/AdarshShah/BSE-Predictor/master/BSE_metadata.csv\")"
      ],
      "execution_count": 0,
      "outputs": []
    },
    {
      "cell_type": "code",
      "metadata": {
        "id": "w_DhqwQNyvHX",
        "colab_type": "code",
        "colab": {
          "base_uri": "https://localhost:8080/",
          "height": 34
        },
        "outputId": "7ba3ecd9-9a96-40e9-fe6f-fe3050aac092"
      },
      "source": [
        "stocks = dict()\n",
        "keys = metadata['name'].to_numpy()\n",
        "for key in keys:\n",
        "  stocks[key] = metadata[metadata['name']==key].to_numpy()\n",
        "\n",
        "def get_code(key):\n",
        "  return str(stocks[keys[1]][0][0])\n",
        "\n",
        "get_code(key[0])"
      ],
      "execution_count": 46,
      "outputs": [
        {
          "output_type": "execute_result",
          "data": {
            "text/plain": [
              "'BOM500003'"
            ]
          },
          "metadata": {
            "tags": []
          },
          "execution_count": 46
        }
      ]
    },
    {
      "cell_type": "code",
      "metadata": {
        "id": "i1fS62ICZ2fL",
        "colab_type": "code",
        "colab": {}
      },
      "source": [
        "dataset = quandl.get(quandl_id,start_date=start_date,end_date=end_date)"
      ],
      "execution_count": 0,
      "outputs": []
    }
  ]
}