{
  "nbformat": 4,
  "nbformat_minor": 0,
  "metadata": {
    "colab": {
      "name": "BombayStockExchange.ipynb",
      "provenance": [],
      "include_colab_link": true
    },
    "kernelspec": {
      "name": "python3",
      "display_name": "Python 3"
    }
  },
  "cells": [
    {
      "cell_type": "markdown",
      "metadata": {
        "id": "view-in-github",
        "colab_type": "text"
      },
      "source": [
        "<a href=\"https://colab.research.google.com/github/AdarshShah/BSE-Predictor/blob/master/BombayStockExchange.ipynb\" target=\"_parent\"><img src=\"https://colab.research.google.com/assets/colab-badge.svg\" alt=\"Open In Colab\"/></a>"
      ]
    },
    {
      "cell_type": "markdown",
      "metadata": {
        "id": "bSChPuJtkPSO",
        "colab_type": "text"
      },
      "source": [
        "# Important Libraries"
      ]
    },
    {
      "cell_type": "code",
      "metadata": {
        "id": "mAeVWuapkO7G",
        "colab_type": "code",
        "colab": {}
      },
      "source": [
        "from bsedata.bse import BSE"
      ],
      "execution_count": 0,
      "outputs": []
    },
    {
      "cell_type": "markdown",
      "metadata": {
        "id": "PtdPnwcgkvUq",
        "colab_type": "text"
      },
      "source": [
        "# Fetching Details"
      ]
    },
    {
      "cell_type": "code",
      "metadata": {
        "id": "UeClMxBhkv3L",
        "colab_type": "code",
        "colab": {}
      },
      "source": [
        "b = BSE()\n",
        "b.updateScripCodes()\n",
        "stocks = b.getScripCodes()"
      ],
      "execution_count": 0,
      "outputs": []
    },
    {
      "cell_type": "code",
      "metadata": {
        "id": "VbE0a3nRmDSF",
        "colab_type": "code",
        "colab": {}
      },
      "source": [
        "ScripCodes = ['500010','500087','500112','500124','500180','500182','500209','500247','500257','500312','500325','500470','500510','500520',\n",
        "              '500570','500696','500820','500875','507685','524715','532174','532215','532454','532500','532540','532555','532898','532921',\n",
        "              '532977','533278','570001']"
      ],
      "execution_count": 0,
      "outputs": []
    },
    {
      "cell_type": "code",
      "metadata": {
        "id": "W8DqbX1In8ZV",
        "colab_type": "code",
        "colab": {}
      },
      "source": [
        "for i in ScripCodes:\n",
        "  print(stocks[i])"
      ],
      "execution_count": 0,
      "outputs": []
    },
    {
      "cell_type": "code",
      "metadata": {
        "id": "rPbhcUq1ohjI",
        "colab_type": "code",
        "colab": {
          "base_uri": "https://localhost:8080/",
          "height": 34
        },
        "outputId": "9d4f6d88-3460-4d42-8251-2c3ebfa9620a"
      },
      "source": [
        "sum = 0\n",
        "for i in ScripCodes:\n",
        "  a = b.getQuote(i)\n",
        "  sum = sum + float(a['currentValue'])\n",
        "\n",
        "print(sum)"
      ],
      "execution_count": 29,
      "outputs": [
        {
          "output_type": "stream",
          "text": [
            "36700.899999999994\n"
          ],
          "name": "stdout"
        }
      ]
    }
  ]
}